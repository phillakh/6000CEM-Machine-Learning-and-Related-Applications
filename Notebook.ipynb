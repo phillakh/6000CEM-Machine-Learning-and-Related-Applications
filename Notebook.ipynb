{
 "cells": [
  {
   "cell_type": "markdown",
   "metadata": {},
   "source": [
    "# Introduction\n",
    "\n",
    "Our goal is to build machine learning models that will predict whether income exceeds $50K/yr based on census data.<br>\n",
    "The dataset is gathered from [UCI Archive](http://archive.ics.uci.edu/ml/datasets/Adult). The data contains following information\n",
    "- **age:** continuous.\n",
    "- **workclass:** Private, Self-emp-not-inc, Self-emp-inc, Federal-gov, Local-gov, State-gov, Without-pay, Never-worked.\n",
    "- **fnlwgt:** continuous.\n",
    "- **education:** Bachelors, Some-college, 11th, HS-grad, Prof-school, Assoc-acdm, Assoc-voc, 9th, 7th-8th, 12th, Masters, 1st-4th, 10th, Doctorate, 5th-6th, Preschool.\n",
    "- **education-num:** continuous.\n",
    "- **marital-status:** Married-civ-spouse, Divorced, Never-married, Separated, Widowed, Married-spouse-absent, Married-AF-spouse.\n",
    "- **occupation:** Tech-support, Craft-repair, Other-service, Sales, Exec-managerial, Prof-specialty, Handlers-cleaners, Machine-op-inspct, Adm-clerical, Farming-fishing, Transport-moving, Priv-house-serv, Protective-serv, Armed-Forces.\n",
    "- **relationship:** Wife, Own-child, Husband, Not-in-family, Other-relative, Unmarried.\n",
    "- **race:** White, Asian-Pac-Islander, Amer-Indian-Eskimo, Other, Black.\n",
    "- **sex:** Female, Male.\n",
    "- **capital-gain:** continuous.\n",
    "- **capital-loss:** continuous.\n",
    "- **hours-per-week:** continuous.\n",
    "- **native-country:** United-States, Cambodia, England, Puerto-Rico, Canada, Germany, Outlying-US(Guam-USVI-etc), India, Japan, Greece, South, China, Cuba, Iran, Honduras, Philippines, Italy, Poland, Jamaica, Vietnam, Mexico, Portugal, Ireland, France, Dominican-Republic, Laos, Ecuador, Taiwan, Haiti, Columbia, Hungary, Guatemala, Nicaragua, Scotland, Thailand, Yugoslavia, El-Salvador, Trinadad&Tobago, Peru, Hong, Holand-Netherlands.\n",
    "\n"
   ]
  },
  {
   "cell_type": "code",
   "execution_count": 16,
   "metadata": {},
   "outputs": [],
   "source": [
    "import pandas as pd\n",
    "import numpy as np\n",
    "from matplotlib import pyplot as plt\n",
    "import seaborn as sns\n",
    "from sklearn.linear_model import LogisticRegression\n",
    "from sklearn.ensemble import RandomForestClassifier\n",
    "from sklearn.metrics import accuracy_score,confusion_matrix,classification_report,roc_curve, auc, precision_score, recall_score\n",
    "from datetime import datetime\n",
    "from sklearn.feature_selection import RFE\n",
    "from sklearn.pipeline import Pipeline\n",
    "from sklearn.impute import SimpleImputer\n",
    "from sklearn.preprocessing import MinMaxScaler, OneHotEncoder\n",
    "from sklearn.compose import ColumnTransformer\n",
    "from sklearn import preprocessing\n",
    "from sklearn.model_selection import train_test_split\n",
    "from sklearn.model_selection import GridSearchCV, cross_val_score\n",
    "\n",
    "import warnings\n",
    "warnings.filterwarnings('ignore')"
   ]
  },
  {
   "cell_type": "markdown",
   "metadata": {},
   "source": [
    "# EDA"
   ]
  },
  {
   "cell_type": "code",
   "execution_count": 17,
   "metadata": {},
   "outputs": [],
   "source": [
    "df = pd.read_csv('data/adult.data', header = None)"
   ]
  },
  {
   "cell_type": "code",
   "execution_count": 18,
   "metadata": {},
   "outputs": [
    {
     "data": {
      "text/html": [
       "<div>\n",
       "<style scoped>\n",
       "    .dataframe tbody tr th:only-of-type {\n",
       "        vertical-align: middle;\n",
       "    }\n",
       "\n",
       "    .dataframe tbody tr th {\n",
       "        vertical-align: top;\n",
       "    }\n",
       "\n",
       "    .dataframe thead th {\n",
       "        text-align: right;\n",
       "    }\n",
       "</style>\n",
       "<table border=\"1\" class=\"dataframe\">\n",
       "  <thead>\n",
       "    <tr style=\"text-align: right;\">\n",
       "      <th></th>\n",
       "      <th>0</th>\n",
       "      <th>1</th>\n",
       "      <th>2</th>\n",
       "      <th>3</th>\n",
       "      <th>4</th>\n",
       "      <th>5</th>\n",
       "      <th>6</th>\n",
       "      <th>7</th>\n",
       "      <th>8</th>\n",
       "      <th>9</th>\n",
       "      <th>10</th>\n",
       "      <th>11</th>\n",
       "      <th>12</th>\n",
       "      <th>13</th>\n",
       "      <th>14</th>\n",
       "    </tr>\n",
       "  </thead>\n",
       "  <tbody>\n",
       "    <tr>\n",
       "      <th>0</th>\n",
       "      <td>39</td>\n",
       "      <td>State-gov</td>\n",
       "      <td>77516</td>\n",
       "      <td>Bachelors</td>\n",
       "      <td>13</td>\n",
       "      <td>Never-married</td>\n",
       "      <td>Adm-clerical</td>\n",
       "      <td>Not-in-family</td>\n",
       "      <td>White</td>\n",
       "      <td>Male</td>\n",
       "      <td>2174</td>\n",
       "      <td>0</td>\n",
       "      <td>40</td>\n",
       "      <td>United-States</td>\n",
       "      <td>&lt;=50K</td>\n",
       "    </tr>\n",
       "    <tr>\n",
       "      <th>1</th>\n",
       "      <td>50</td>\n",
       "      <td>Self-emp-not-inc</td>\n",
       "      <td>83311</td>\n",
       "      <td>Bachelors</td>\n",
       "      <td>13</td>\n",
       "      <td>Married-civ-spouse</td>\n",
       "      <td>Exec-managerial</td>\n",
       "      <td>Husband</td>\n",
       "      <td>White</td>\n",
       "      <td>Male</td>\n",
       "      <td>0</td>\n",
       "      <td>0</td>\n",
       "      <td>13</td>\n",
       "      <td>United-States</td>\n",
       "      <td>&lt;=50K</td>\n",
       "    </tr>\n",
       "    <tr>\n",
       "      <th>2</th>\n",
       "      <td>38</td>\n",
       "      <td>Private</td>\n",
       "      <td>215646</td>\n",
       "      <td>HS-grad</td>\n",
       "      <td>9</td>\n",
       "      <td>Divorced</td>\n",
       "      <td>Handlers-cleaners</td>\n",
       "      <td>Not-in-family</td>\n",
       "      <td>White</td>\n",
       "      <td>Male</td>\n",
       "      <td>0</td>\n",
       "      <td>0</td>\n",
       "      <td>40</td>\n",
       "      <td>United-States</td>\n",
       "      <td>&lt;=50K</td>\n",
       "    </tr>\n",
       "    <tr>\n",
       "      <th>3</th>\n",
       "      <td>53</td>\n",
       "      <td>Private</td>\n",
       "      <td>234721</td>\n",
       "      <td>11th</td>\n",
       "      <td>7</td>\n",
       "      <td>Married-civ-spouse</td>\n",
       "      <td>Handlers-cleaners</td>\n",
       "      <td>Husband</td>\n",
       "      <td>Black</td>\n",
       "      <td>Male</td>\n",
       "      <td>0</td>\n",
       "      <td>0</td>\n",
       "      <td>40</td>\n",
       "      <td>United-States</td>\n",
       "      <td>&lt;=50K</td>\n",
       "    </tr>\n",
       "    <tr>\n",
       "      <th>4</th>\n",
       "      <td>28</td>\n",
       "      <td>Private</td>\n",
       "      <td>338409</td>\n",
       "      <td>Bachelors</td>\n",
       "      <td>13</td>\n",
       "      <td>Married-civ-spouse</td>\n",
       "      <td>Prof-specialty</td>\n",
       "      <td>Wife</td>\n",
       "      <td>Black</td>\n",
       "      <td>Female</td>\n",
       "      <td>0</td>\n",
       "      <td>0</td>\n",
       "      <td>40</td>\n",
       "      <td>Cuba</td>\n",
       "      <td>&lt;=50K</td>\n",
       "    </tr>\n",
       "  </tbody>\n",
       "</table>\n",
       "</div>"
      ],
      "text/plain": [
       "   0                  1       2           3   4                    5   \\\n",
       "0  39          State-gov   77516   Bachelors  13        Never-married   \n",
       "1  50   Self-emp-not-inc   83311   Bachelors  13   Married-civ-spouse   \n",
       "2  38            Private  215646     HS-grad   9             Divorced   \n",
       "3  53            Private  234721        11th   7   Married-civ-spouse   \n",
       "4  28            Private  338409   Bachelors  13   Married-civ-spouse   \n",
       "\n",
       "                   6               7       8        9     10  11  12  \\\n",
       "0        Adm-clerical   Not-in-family   White     Male  2174   0  40   \n",
       "1     Exec-managerial         Husband   White     Male     0   0  13   \n",
       "2   Handlers-cleaners   Not-in-family   White     Male     0   0  40   \n",
       "3   Handlers-cleaners         Husband   Black     Male     0   0  40   \n",
       "4      Prof-specialty            Wife   Black   Female     0   0  40   \n",
       "\n",
       "               13      14  \n",
       "0   United-States   <=50K  \n",
       "1   United-States   <=50K  \n",
       "2   United-States   <=50K  \n",
       "3   United-States   <=50K  \n",
       "4            Cuba   <=50K  "
      ]
     },
     "execution_count": 18,
     "metadata": {},
     "output_type": "execute_result"
    }
   ],
   "source": [
    "df.head()"
   ]
  },
  {
   "cell_type": "code",
   "execution_count": 19,
   "metadata": {},
   "outputs": [
    {
     "data": {
      "text/html": [
       "<div>\n",
       "<style scoped>\n",
       "    .dataframe tbody tr th:only-of-type {\n",
       "        vertical-align: middle;\n",
       "    }\n",
       "\n",
       "    .dataframe tbody tr th {\n",
       "        vertical-align: top;\n",
       "    }\n",
       "\n",
       "    .dataframe thead th {\n",
       "        text-align: right;\n",
       "    }\n",
       "</style>\n",
       "<table border=\"1\" class=\"dataframe\">\n",
       "  <thead>\n",
       "    <tr style=\"text-align: right;\">\n",
       "      <th></th>\n",
       "      <th>age</th>\n",
       "      <th>workclass</th>\n",
       "      <th>fnlwgt</th>\n",
       "      <th>education</th>\n",
       "      <th>education.num</th>\n",
       "      <th>marital.status</th>\n",
       "      <th>occupation</th>\n",
       "      <th>relationship</th>\n",
       "      <th>race</th>\n",
       "      <th>sex</th>\n",
       "      <th>capital.gain</th>\n",
       "      <th>capital.loss</th>\n",
       "      <th>hours.per.week</th>\n",
       "      <th>native.country</th>\n",
       "      <th>income</th>\n",
       "    </tr>\n",
       "  </thead>\n",
       "  <tbody>\n",
       "    <tr>\n",
       "      <th>0</th>\n",
       "      <td>39</td>\n",
       "      <td>State-gov</td>\n",
       "      <td>77516</td>\n",
       "      <td>Bachelors</td>\n",
       "      <td>13</td>\n",
       "      <td>Never-married</td>\n",
       "      <td>Adm-clerical</td>\n",
       "      <td>Not-in-family</td>\n",
       "      <td>White</td>\n",
       "      <td>Male</td>\n",
       "      <td>2174</td>\n",
       "      <td>0</td>\n",
       "      <td>40</td>\n",
       "      <td>United-States</td>\n",
       "      <td>&lt;=50K</td>\n",
       "    </tr>\n",
       "    <tr>\n",
       "      <th>1</th>\n",
       "      <td>50</td>\n",
       "      <td>Self-emp-not-inc</td>\n",
       "      <td>83311</td>\n",
       "      <td>Bachelors</td>\n",
       "      <td>13</td>\n",
       "      <td>Married-civ-spouse</td>\n",
       "      <td>Exec-managerial</td>\n",
       "      <td>Husband</td>\n",
       "      <td>White</td>\n",
       "      <td>Male</td>\n",
       "      <td>0</td>\n",
       "      <td>0</td>\n",
       "      <td>13</td>\n",
       "      <td>United-States</td>\n",
       "      <td>&lt;=50K</td>\n",
       "    </tr>\n",
       "    <tr>\n",
       "      <th>2</th>\n",
       "      <td>38</td>\n",
       "      <td>Private</td>\n",
       "      <td>215646</td>\n",
       "      <td>HS-grad</td>\n",
       "      <td>9</td>\n",
       "      <td>Divorced</td>\n",
       "      <td>Handlers-cleaners</td>\n",
       "      <td>Not-in-family</td>\n",
       "      <td>White</td>\n",
       "      <td>Male</td>\n",
       "      <td>0</td>\n",
       "      <td>0</td>\n",
       "      <td>40</td>\n",
       "      <td>United-States</td>\n",
       "      <td>&lt;=50K</td>\n",
       "    </tr>\n",
       "    <tr>\n",
       "      <th>3</th>\n",
       "      <td>53</td>\n",
       "      <td>Private</td>\n",
       "      <td>234721</td>\n",
       "      <td>11th</td>\n",
       "      <td>7</td>\n",
       "      <td>Married-civ-spouse</td>\n",
       "      <td>Handlers-cleaners</td>\n",
       "      <td>Husband</td>\n",
       "      <td>Black</td>\n",
       "      <td>Male</td>\n",
       "      <td>0</td>\n",
       "      <td>0</td>\n",
       "      <td>40</td>\n",
       "      <td>United-States</td>\n",
       "      <td>&lt;=50K</td>\n",
       "    </tr>\n",
       "    <tr>\n",
       "      <th>4</th>\n",
       "      <td>28</td>\n",
       "      <td>Private</td>\n",
       "      <td>338409</td>\n",
       "      <td>Bachelors</td>\n",
       "      <td>13</td>\n",
       "      <td>Married-civ-spouse</td>\n",
       "      <td>Prof-specialty</td>\n",
       "      <td>Wife</td>\n",
       "      <td>Black</td>\n",
       "      <td>Female</td>\n",
       "      <td>0</td>\n",
       "      <td>0</td>\n",
       "      <td>40</td>\n",
       "      <td>Cuba</td>\n",
       "      <td>&lt;=50K</td>\n",
       "    </tr>\n",
       "  </tbody>\n",
       "</table>\n",
       "</div>"
      ],
      "text/plain": [
       "   age          workclass  fnlwgt   education  education.num  \\\n",
       "0   39          State-gov   77516   Bachelors             13   \n",
       "1   50   Self-emp-not-inc   83311   Bachelors             13   \n",
       "2   38            Private  215646     HS-grad              9   \n",
       "3   53            Private  234721        11th              7   \n",
       "4   28            Private  338409   Bachelors             13   \n",
       "\n",
       "        marital.status          occupation    relationship    race      sex  \\\n",
       "0        Never-married        Adm-clerical   Not-in-family   White     Male   \n",
       "1   Married-civ-spouse     Exec-managerial         Husband   White     Male   \n",
       "2             Divorced   Handlers-cleaners   Not-in-family   White     Male   \n",
       "3   Married-civ-spouse   Handlers-cleaners         Husband   Black     Male   \n",
       "4   Married-civ-spouse      Prof-specialty            Wife   Black   Female   \n",
       "\n",
       "   capital.gain  capital.loss  hours.per.week  native.country  income  \n",
       "0          2174             0              40   United-States   <=50K  \n",
       "1             0             0              13   United-States   <=50K  \n",
       "2             0             0              40   United-States   <=50K  \n",
       "3             0             0              40   United-States   <=50K  \n",
       "4             0             0              40            Cuba   <=50K  "
      ]
     },
     "execution_count": 19,
     "metadata": {},
     "output_type": "execute_result"
    }
   ],
   "source": [
    "columns = ['age', 'workclass', 'fnlwgt', 'education', 'education.num', 'marital.status', 'occupation', 'relationship', \\\n",
    "           'race', 'sex', 'capital.gain', 'capital.loss', 'hours.per.week', 'native.country', 'income'] \n",
    "df.columns = columns\n",
    "df.head()"
   ]
  },
  {
   "cell_type": "code",
   "execution_count": 20,
   "metadata": {},
   "outputs": [
    {
     "data": {
      "text/html": [
       "<div>\n",
       "<style scoped>\n",
       "    .dataframe tbody tr th:only-of-type {\n",
       "        vertical-align: middle;\n",
       "    }\n",
       "\n",
       "    .dataframe tbody tr th {\n",
       "        vertical-align: top;\n",
       "    }\n",
       "\n",
       "    .dataframe thead th {\n",
       "        text-align: right;\n",
       "    }\n",
       "</style>\n",
       "<table border=\"1\" class=\"dataframe\">\n",
       "  <thead>\n",
       "    <tr style=\"text-align: right;\">\n",
       "      <th></th>\n",
       "      <th>age</th>\n",
       "      <th>fnlwgt</th>\n",
       "      <th>education.num</th>\n",
       "      <th>capital.gain</th>\n",
       "      <th>capital.loss</th>\n",
       "      <th>hours.per.week</th>\n",
       "    </tr>\n",
       "  </thead>\n",
       "  <tbody>\n",
       "    <tr>\n",
       "      <th>count</th>\n",
       "      <td>32561.000000</td>\n",
       "      <td>3.256100e+04</td>\n",
       "      <td>32561.000000</td>\n",
       "      <td>32561.000000</td>\n",
       "      <td>32561.000000</td>\n",
       "      <td>32561.000000</td>\n",
       "    </tr>\n",
       "    <tr>\n",
       "      <th>mean</th>\n",
       "      <td>38.581647</td>\n",
       "      <td>1.897784e+05</td>\n",
       "      <td>10.080679</td>\n",
       "      <td>1077.648844</td>\n",
       "      <td>87.303830</td>\n",
       "      <td>40.437456</td>\n",
       "    </tr>\n",
       "    <tr>\n",
       "      <th>std</th>\n",
       "      <td>13.640433</td>\n",
       "      <td>1.055500e+05</td>\n",
       "      <td>2.572720</td>\n",
       "      <td>7385.292085</td>\n",
       "      <td>402.960219</td>\n",
       "      <td>12.347429</td>\n",
       "    </tr>\n",
       "    <tr>\n",
       "      <th>min</th>\n",
       "      <td>17.000000</td>\n",
       "      <td>1.228500e+04</td>\n",
       "      <td>1.000000</td>\n",
       "      <td>0.000000</td>\n",
       "      <td>0.000000</td>\n",
       "      <td>1.000000</td>\n",
       "    </tr>\n",
       "    <tr>\n",
       "      <th>25%</th>\n",
       "      <td>28.000000</td>\n",
       "      <td>1.178270e+05</td>\n",
       "      <td>9.000000</td>\n",
       "      <td>0.000000</td>\n",
       "      <td>0.000000</td>\n",
       "      <td>40.000000</td>\n",
       "    </tr>\n",
       "    <tr>\n",
       "      <th>50%</th>\n",
       "      <td>37.000000</td>\n",
       "      <td>1.783560e+05</td>\n",
       "      <td>10.000000</td>\n",
       "      <td>0.000000</td>\n",
       "      <td>0.000000</td>\n",
       "      <td>40.000000</td>\n",
       "    </tr>\n",
       "    <tr>\n",
       "      <th>75%</th>\n",
       "      <td>48.000000</td>\n",
       "      <td>2.370510e+05</td>\n",
       "      <td>12.000000</td>\n",
       "      <td>0.000000</td>\n",
       "      <td>0.000000</td>\n",
       "      <td>45.000000</td>\n",
       "    </tr>\n",
       "    <tr>\n",
       "      <th>max</th>\n",
       "      <td>90.000000</td>\n",
       "      <td>1.484705e+06</td>\n",
       "      <td>16.000000</td>\n",
       "      <td>99999.000000</td>\n",
       "      <td>4356.000000</td>\n",
       "      <td>99.000000</td>\n",
       "    </tr>\n",
       "  </tbody>\n",
       "</table>\n",
       "</div>"
      ],
      "text/plain": [
       "                age        fnlwgt  education.num  capital.gain  capital.loss  \\\n",
       "count  32561.000000  3.256100e+04   32561.000000  32561.000000  32561.000000   \n",
       "mean      38.581647  1.897784e+05      10.080679   1077.648844     87.303830   \n",
       "std       13.640433  1.055500e+05       2.572720   7385.292085    402.960219   \n",
       "min       17.000000  1.228500e+04       1.000000      0.000000      0.000000   \n",
       "25%       28.000000  1.178270e+05       9.000000      0.000000      0.000000   \n",
       "50%       37.000000  1.783560e+05      10.000000      0.000000      0.000000   \n",
       "75%       48.000000  2.370510e+05      12.000000      0.000000      0.000000   \n",
       "max       90.000000  1.484705e+06      16.000000  99999.000000   4356.000000   \n",
       "\n",
       "       hours.per.week  \n",
       "count    32561.000000  \n",
       "mean        40.437456  \n",
       "std         12.347429  \n",
       "min          1.000000  \n",
       "25%         40.000000  \n",
       "50%         40.000000  \n",
       "75%         45.000000  \n",
       "max         99.000000  "
      ]
     },
     "execution_count": 20,
     "metadata": {},
     "output_type": "execute_result"
    }
   ],
   "source": [
    "df.describe()"
   ]
  },
  {
   "cell_type": "code",
   "execution_count": 21,
   "metadata": {},
   "outputs": [],
   "source": [
    "#Separate categorical and numberical columns\n",
    "\n",
    "cat_col = df.dtypes[df.dtypes == 'object'] \n",
    "num_col = df.dtypes[df.dtypes != 'object']"
   ]
  },
  {
   "cell_type": "markdown",
   "metadata": {},
   "source": [
    "**Inspection of Categorical Columns**"
   ]
  },
  {
   "cell_type": "code",
   "execution_count": 22,
   "metadata": {
    "scrolled": false
   },
   "outputs": [
    {
     "name": "stdout",
     "output_type": "stream",
     "text": [
      "Workclass\n",
      "                   total   percent\n",
      " Private           22696  0.697030\n",
      " Self-emp-not-inc   2541  0.078038\n",
      " Local-gov          2093  0.064279\n",
      " ?                  1836  0.056386\n",
      " State-gov          1298  0.039864\n",
      " Self-emp-inc       1116  0.034274\n",
      " Federal-gov         960  0.029483\n",
      " Without-pay          14  0.000430\n",
      " Never-worked          7  0.000215\n",
      "\n",
      "\n",
      "Education\n",
      "               total   percent\n",
      " HS-grad       10501  0.322502\n",
      " Some-college   7291  0.223918\n",
      " Bachelors      5355  0.164461\n",
      " Masters        1723  0.052916\n",
      " Assoc-voc      1382  0.042443\n",
      " 11th           1175  0.036086\n",
      " Assoc-acdm     1067  0.032769\n",
      " 10th            933  0.028654\n",
      " 7th-8th         646  0.019840\n",
      " Prof-school     576  0.017690\n",
      " 9th             514  0.015786\n",
      " 12th            433  0.013298\n",
      " Doctorate       413  0.012684\n",
      " 5th-6th         333  0.010227\n",
      " 1st-4th         168  0.005160\n",
      " Preschool        51  0.001566\n",
      "\n",
      "\n",
      "Marital.Status\n",
      "                        total   percent\n",
      " Married-civ-spouse     14976  0.459937\n",
      " Never-married          10683  0.328092\n",
      " Divorced                4443  0.136452\n",
      " Separated               1025  0.031479\n",
      " Widowed                  993  0.030497\n",
      " Married-spouse-absent    418  0.012837\n",
      " Married-AF-spouse         23  0.000706\n",
      "\n",
      "\n",
      "Occupation\n",
      "                    total   percent\n",
      " Prof-specialty      4140  0.127146\n",
      " Craft-repair        4099  0.125887\n",
      " Exec-managerial     4066  0.124873\n",
      " Adm-clerical        3770  0.115783\n",
      " Sales               3650  0.112097\n",
      " Other-service       3295  0.101195\n",
      " Machine-op-inspct   2002  0.061485\n",
      " ?                   1843  0.056601\n",
      " Transport-moving    1597  0.049046\n",
      " Handlers-cleaners   1370  0.042075\n",
      " Farming-fishing      994  0.030527\n",
      " Tech-support         928  0.028500\n",
      " Protective-serv      649  0.019932\n",
      " Priv-house-serv      149  0.004576\n",
      " Armed-Forces           9  0.000276\n",
      "\n",
      "\n",
      "Relationship\n",
      "                 total   percent\n",
      " Husband         13193  0.405178\n",
      " Not-in-family    8305  0.255060\n",
      " Own-child        5068  0.155646\n",
      " Unmarried        3446  0.105832\n",
      " Wife             1568  0.048156\n",
      " Other-relative    981  0.030128\n",
      "\n",
      "\n",
      "Race\n",
      "                     total   percent\n",
      " White               27816  0.854274\n",
      " Black                3124  0.095943\n",
      " Asian-Pac-Islander   1039  0.031909\n",
      " Amer-Indian-Eskimo    311  0.009551\n",
      " Other                 271  0.008323\n",
      "\n",
      "\n",
      "Sex\n",
      "         total   percent\n",
      " Male    21790  0.669205\n",
      " Female  10771  0.330795\n",
      "\n",
      "\n",
      "Native.Country\n",
      "                             total   percent\n",
      " United-States               29170  0.895857\n",
      " Mexico                        643  0.019748\n",
      " ?                             583  0.017905\n",
      " Philippines                   198  0.006081\n",
      " Germany                       137  0.004207\n",
      " Canada                        121  0.003716\n",
      " Puerto-Rico                   114  0.003501\n",
      " El-Salvador                   106  0.003255\n",
      " India                         100  0.003071\n",
      " Cuba                           95  0.002918\n",
      " England                        90  0.002764\n",
      " Jamaica                        81  0.002488\n",
      " South                          80  0.002457\n",
      " China                          75  0.002303\n",
      " Italy                          73  0.002242\n",
      " Dominican-Republic             70  0.002150\n",
      " Vietnam                        67  0.002058\n",
      " Guatemala                      64  0.001966\n",
      " Japan                          62  0.001904\n",
      " Poland                         60  0.001843\n",
      " Columbia                       59  0.001812\n",
      " Taiwan                         51  0.001566\n",
      " Haiti                          44  0.001351\n",
      " Iran                           43  0.001321\n",
      " Portugal                       37  0.001136\n",
      " Nicaragua                      34  0.001044\n",
      " Peru                           31  0.000952\n",
      " France                         29  0.000891\n",
      " Greece                         29  0.000891\n",
      " Ecuador                        28  0.000860\n",
      " Ireland                        24  0.000737\n",
      " Hong                           20  0.000614\n",
      " Trinadad&Tobago                19  0.000584\n",
      " Cambodia                       19  0.000584\n",
      " Laos                           18  0.000553\n",
      " Thailand                       18  0.000553\n",
      " Yugoslavia                     16  0.000491\n",
      " Outlying-US(Guam-USVI-etc)     14  0.000430\n",
      " Honduras                       13  0.000399\n",
      " Hungary                        13  0.000399\n",
      " Scotland                       12  0.000369\n",
      " Holand-Netherlands              1  0.000031\n",
      "\n",
      "\n",
      "Income\n",
      "        total  percent\n",
      " <=50K  24720  0.75919\n",
      " >50K    7841  0.24081\n",
      "\n",
      "\n"
     ]
    }
   ],
   "source": [
    "# loop through each categorical columns\n",
    "for col in list(cat_col.index):\n",
    "    # print column n\n",
    "    print(col.title())\n",
    "    # count each unique values of the current column\n",
    "    total= df[col].value_counts()\n",
    "    # find percent occurence of each unique value\n",
    "    percent = df[col].value_counts() / df.shape[0]\n",
    "    # make a dataframe of based of above 2 lists \n",
    "    sub_df = pd.concat([total,percent],keys = ['total','percent'],axis = 1)\n",
    "    # print the dataframe\n",
    "    print(sub_df)\n",
    "    print('\\n')"
   ]
  },
  {
   "cell_type": "markdown",
   "metadata": {},
   "source": [
    "- **Native.Country, Occupation, Workclass** has unknown values represented by `?`\n",
    "- 9th, 10th, 11th, 12th comes under HighSchool Grad but it has mentioned separately\n",
    "- Married-civ-spouse,Married-spouse-absent,Married-AF-spouse comes under category Married\n",
    "- Divorced, separated again comes under category separated.\n",
    "- Self-emp-not-inc, Self-emp-inc comes under category self employed\n",
    "- Local-gov,State-gov,Federal-gov comes under category goverment emloyees"
   ]
  },
  {
   "cell_type": "code",
   "execution_count": 23,
   "metadata": {},
   "outputs": [],
   "source": [
    "# Replace ? with Unknown\n",
    "# columns that contains ?\n",
    "edit_cols = ['native.country','occupation','workclass']\n",
    "# loop through each column in the above list\n",
    "for col in edit_cols:\n",
    "    # replace ? with Unknown\n",
    "    df.loc[df[col] == '?', col] = 'unknown'"
   ]
  },
  {
   "cell_type": "code",
   "execution_count": 24,
   "metadata": {},
   "outputs": [
    {
     "name": "stdout",
     "output_type": "stream",
     "text": [
      "? in native.country: 0\n",
      "? in occupation: 0\n",
      "? in workclass: 0\n"
     ]
    }
   ],
   "source": [
    "# Check if ? is present\n",
    "for col in edit_cols:\n",
    "    print(f\"? in {col}: {df[(df[col] == '?')].any().sum()}\")"
   ]
  },
  {
   "cell_type": "code",
   "execution_count": 25,
   "metadata": {},
   "outputs": [
    {
     "name": "stdout",
     "output_type": "stream",
     "text": [
      "HS-grad              13556\n",
      "Some-college          7291\n",
      "Bachelors             5355\n",
      "Masters               1723\n",
      "Assoc-voc             1382\n",
      "elementary_school     1147\n",
      "Assoc-acdm            1067\n",
      "Prof-school            576\n",
      "Doctorate              413\n",
      "Preschool               51\n",
      "Name: education, dtype: int64\n"
     ]
    },
    {
     "data": {
      "text/plain": [
       "<matplotlib.axes._subplots.AxesSubplot at 0x1fd2f240070>"
      ]
     },
     "execution_count": 25,
     "metadata": {},
     "output_type": "execute_result"
    },
    {
     "data": {
      "image/png": "[encoded data removed]",
      "text/plain": [
       "<Figure size 432x288 with 1 Axes>"
      ]
     },
     "metadata": {
      "needs_background": "light"
     },
     "output_type": "display_data"
    }
   ],
   "source": [
    "# we will replace 9th, 10th, 11th, 12th with HighSchool\n",
    "# and 1st-4th,5th-6th,7th-8th with ElementarysSchool\n",
    "hs_grad = ['HS-grad','11th','10th','9th','12th']\n",
    "elementary = ['1st-4th','5th-6th','7th-8th']\n",
    "\n",
    "# replace elements in list.\n",
    "df['education'] = df['education'].str.strip()\n",
    "df['education'].replace(to_replace = hs_grad,value = 'HS-grad',inplace = True)\n",
    "df['education'].replace(to_replace = elementary,value = 'elementary_school',inplace = True)\n",
    "\n",
    "print(df['education'].value_counts())\n",
    "df['education'].value_counts().plot(kind='bar')"
   ]
  },
  {
   "cell_type": "code",
   "execution_count": 26,
   "metadata": {},
   "outputs": [
    {
     "name": "stdout",
     "output_type": "stream",
     "text": [
      "Married          15417\n",
      "Never-married    10683\n",
      "Separated         5468\n",
      "Widowed            993\n",
      "Name: marital.status, dtype: int64\n"
     ]
    },
    {
     "data": {
      "text/plain": [
       "<matplotlib.axes._subplots.AxesSubplot at 0x1fd2f9827c0>"
      ]
     },
     "execution_count": 26,
     "metadata": {},
     "output_type": "execute_result"
    },
    {
     "data": {
      "image/png": "[encoded data removed]",
      "text/plain": [
       "<Figure size 432x288 with 1 Axes>"
      ]
     },
     "metadata": {
      "needs_background": "light"
     },
     "output_type": "display_data"
    }
   ],
   "source": [
    "# we will make married status to married, separted, never-married, and widowed\n",
    "\n",
    "married= ['Married-spouse-absent','Married-civ-spouse','Married-AF-spouse']\n",
    "separated = ['Separated','Divorced']\n",
    "\n",
    "#replace elements in list.\n",
    "df['marital.status'] = df['marital.status'].str.strip()\n",
    "df['marital.status'].replace(to_replace = married ,value = 'Married',inplace = True)\n",
    "df['marital.status'].replace(to_replace = separated,value = 'Separated',inplace = True)\n",
    "\n",
    "print(df['marital.status'].value_counts())\n",
    "df['marital.status'].value_counts().plot(kind='bar')"
   ]
  },
  {
   "cell_type": "code",
   "execution_count": 27,
   "metadata": {
    "scrolled": true
   },
   "outputs": [
    {
     "name": "stdout",
     "output_type": "stream",
     "text": [
      "Private           22696\n",
      "Govt_employees     4351\n",
      "Self_employed      3657\n",
      "?                  1836\n",
      "Without-pay          14\n",
      "Never-worked          7\n",
      "Name: workclass, dtype: int64\n"
     ]
    },
    {
     "data": {
      "text/plain": [
       "<matplotlib.axes._subplots.AxesSubplot at 0x1fd2fac3f40>"
      ]
     },
     "execution_count": 27,
     "metadata": {},
     "output_type": "execute_result"
    },
    {
     "data": {
      "image/png": "[encoded data removed]",
      "text/plain": [
       "<Figure size 432x288 with 1 Axes>"
      ]
     },
     "metadata": {
      "needs_background": "light"
     },
     "output_type": "display_data"
    }
   ],
   "source": [
    "# put self employed, gov employess into one category\n",
    "self_employed = ['Self-emp-not-inc','Self-emp-inc']\n",
    "govt_employees = ['Local-gov','State-gov','Federal-gov']\n",
    "\n",
    "#replace elements in list.\n",
    "df['workclass'] = df['workclass'].str.strip()\n",
    "df['workclass'].replace(to_replace = self_employed ,value = 'Self_employed',inplace = True)\n",
    "df['workclass'].replace(to_replace = govt_employees,value = 'Govt_employees',inplace = True)\n",
    "\n",
    "print(df['workclass'].value_counts())\n",
    "df['workclass'].value_counts().plot(kind='bar')"
   ]
  },
  {
   "cell_type": "code",
   "execution_count": 28,
   "metadata": {
    "scrolled": true
   },
   "outputs": [
    {
     "data": {
      "text/plain": [
       "Text(0, 0.5, 'Frequency')"
      ]
     },
     "execution_count": 28,
     "metadata": {},
     "output_type": "execute_result"
    },
    {
     "data": {
      "image/png": "[encoded data removed]",
      "text/plain": [
       "<Figure size 432x288 with 1 Axes>"
      ]
     },
     "metadata": {
      "needs_background": "light"
     },
     "output_type": "display_data"
    }
   ],
   "source": [
    "# Income class distribution\n",
    "sns.countplot(x = 'income', data = df)\n",
    "plt.xlabel(\"Income\",fontsize = 12)\n",
    "plt.ylabel(\"Frequency\",fontsize = 12)"
   ]
  },
  {
   "cell_type": "markdown",
   "metadata": {},
   "source": [
    "**Inspect Numeric Columns**"
   ]
  },
  {
   "cell_type": "code",
   "execution_count": 29,
   "metadata": {},
   "outputs": [
    {
     "data": {
      "text/plain": [
       "array([[<matplotlib.axes._subplots.AxesSubplot object at 0x000001FD2FC30E20>,\n",
       "        <matplotlib.axes._subplots.AxesSubplot object at 0x000001FD2FC4D7C0>],\n",
       "       [<matplotlib.axes._subplots.AxesSubplot object at 0x000001FD2FC6CC70>,\n",
       "        <matplotlib.axes._subplots.AxesSubplot object at 0x000001FD2FE21160>],\n",
       "       [<matplotlib.axes._subplots.AxesSubplot object at 0x000001FD2FE5A550>,\n",
       "        <matplotlib.axes._subplots.AxesSubplot object at 0x000001FD2FE87910>]],\n",
       "      dtype=object)"
      ]
     },
     "execution_count": 29,
     "metadata": {},
     "output_type": "execute_result"
    },
    {
     "data": {
      "image/png": "[encoded data removed]",
      "text/plain": [
       "<Figure size 864x864 with 6 Axes>"
      ]
     },
     "metadata": {
      "needs_background": "light"
     },
     "output_type": "display_data"
    }
   ],
   "source": [
    "# distribution of numeric data\n",
    "df[list(num_col.index)].hist(figsize = (12,12))"
   ]
  },
  {
   "cell_type": "markdown",
   "metadata": {},
   "source": [
    "- **age:** In our dataset People from age group of 18 to 50 can be observed.\n",
    "- **hours per week:** Generally people can be seen working for 30 hours to 40 hours per week.\n",
    "- **education:** people above 8th grade are more in our dataset.\n",
    "- Our dataset is highly skewed and we should consider scaling it for better performance of our models.\n",
    "\n",
    "Let's explore more for people having capital loss and capital gain greater than zero."
   ]
  },
  {
   "cell_type": "code",
   "execution_count": 30,
   "metadata": {},
   "outputs": [
    {
     "name": "stdout",
     "output_type": "stream",
     "text": [
      "Number of observations having capital loss above median value: (1519, 15)\n",
      "Number of observations in capital gain dataset above median value: (2712, 15)\n",
      "Percentage of people having capital gain greater than median value: 8.3290%\n",
      "Percentage of people having capital loss greater than median value: 4.6651%\n"
     ]
    }
   ],
   "source": [
    "capital_loss_df = df[df['capital.loss']>0]\n",
    "capital_gain_df = df[df['capital.gain']>0]\n",
    "\n",
    "print(f\"Number of observations having capital loss above median value: {capital_loss_df.shape}\\nNumber of observations in capital gain dataset above median value: {capital_gain_df.shape}\")\n",
    "print(f\"Percentage of people having capital gain greater than median value: {(df.loc[df['capital.gain'] > 0,:].shape[0] / df.shape[0])*100:.4f}%\")\n",
    "print(f\"Percentage of people having capital loss greater than median value: {(df.loc[df['capital.loss'] > 0,:].shape[0] / df.shape[0])*100:.4f}%\")"
   ]
  },
  {
   "cell_type": "code",
   "execution_count": 31,
   "metadata": {},
   "outputs": [
    {
     "name": "stdout",
     "output_type": "stream",
     "text": [
      "       capital.loss  capital.gain\n",
      "23815          2392             0\n",
      "26167          1741             0\n",
      "4018           2392             0\n",
      "4245           1980             0\n",
      "25799          1887             0\n",
      "       capital.loss  capital.gain\n",
      "5054              0           594\n",
      "14083             0         14084\n",
      "32560             0         15024\n",
      "1433              0           594\n",
      "27968             0          3137\n"
     ]
    }
   ],
   "source": [
    "capital_gain_0= df[df['capital.loss'] > 0].loc[:,['capital.loss','capital.gain']].sample(10)\n",
    "\n",
    "capital_loss_0 = df[df['capital.gain'] > 0].loc[:,['capital.loss','capital.gain']].sample(5)\n",
    "print(capital_gain_0.head())\n",
    "print(capital_loss_0.head())"
   ]
  },
  {
   "cell_type": "markdown",
   "metadata": {},
   "source": [
    "That means 92% of people are having capital gain equal to zero.<br>"
   ]
  },
  {
   "cell_type": "code",
   "execution_count": 32,
   "metadata": {
    "scrolled": false
   },
   "outputs": [
    {
     "name": "stdout",
     "output_type": "stream",
     "text": [
      "Number of observations having capital gain and capital loss zero: (28330, 15)\n",
      "workclass\n",
      "Private           19982\n",
      "Govt_employees     3714\n",
      "Self_employed      2960\n",
      "?                  1655\n",
      "Without-pay          12\n",
      "Never-worked          7\n",
      "Name: workclass, dtype: int64\n",
      "education\n",
      "HS-grad              12246\n",
      "Some-college          6533\n",
      "Bachelors             4384\n",
      "Masters               1300\n",
      "Assoc-voc             1194\n",
      "elementary_school     1049\n",
      "Assoc-acdm             930\n",
      "Prof-school            363\n",
      "Doctorate              284\n",
      "Preschool               47\n",
      "Name: education, dtype: int64\n",
      "marital.status\n",
      "Married          12603\n",
      "Never-married     9914\n",
      "Separated         4934\n",
      "Widowed            879\n",
      "Name: marital.status, dtype: int64\n",
      "occupation\n",
      " Craft-repair         3593\n",
      " Adm-clerical         3408\n",
      " Prof-specialty       3290\n",
      " Exec-managerial      3219\n",
      " Sales                3138\n",
      " Other-service        3122\n",
      " Machine-op-inspct    1806\n",
      " ?                    1662\n",
      " Transport-moving     1416\n",
      " Handlers-cleaners    1274\n",
      " Farming-fishing       890\n",
      " Tech-support          795\n",
      " Protective-serv       570\n",
      " Priv-house-serv       139\n",
      " Armed-Forces            8\n",
      "Name: occupation, dtype: int64\n",
      "relationship\n",
      " Husband           10739\n",
      " Not-in-family      7427\n",
      " Own-child          4810\n",
      " Unmarried          3172\n",
      " Wife               1272\n",
      " Other-relative      910\n",
      "Name: relationship, dtype: int64\n",
      "race\n",
      " White                 24061\n",
      " Black                  2839\n",
      " Asian-Pac-Islander      902\n",
      " Amer-Indian-Eskimo      280\n",
      " Other                   248\n",
      "Name: race, dtype: int64\n",
      "sex\n",
      " Male      18551\n",
      " Female     9779\n",
      "Name: sex, dtype: int64\n",
      "native.country\n",
      " United-States                 25320\n",
      " Mexico                          612\n",
      " ?                               493\n",
      " Philippines                     174\n",
      " Germany                         117\n",
      " Canada                          103\n",
      " Puerto-Rico                     103\n",
      " El-Salvador                      95\n",
      " Cuba                             85\n",
      " India                            79\n",
      " England                          78\n",
      " Jamaica                          78\n",
      " South                            68\n",
      " Dominican-Republic               67\n",
      " Italy                            65\n",
      " China                            64\n",
      " Guatemala                        60\n",
      " Vietnam                          57\n",
      " Columbia                         55\n",
      " Poland                           53\n",
      " Japan                            51\n",
      " Taiwan                           44\n",
      " Haiti                            42\n",
      " Iran                             35\n",
      " Portugal                         35\n",
      " Nicaragua                        30\n",
      " Peru                             29\n",
      " France                           26\n",
      " Ecuador                          25\n",
      " Ireland                          21\n",
      " Greece                           20\n",
      " Hong                             19\n",
      " Thailand                         18\n",
      " Trinadad&Tobago                  17\n",
      " Laos                             17\n",
      " Yugoslavia                       15\n",
      " Cambodia                         14\n",
      " Outlying-US(Guam-USVI-etc)       14\n",
      " Honduras                         12\n",
      " Scotland                         11\n",
      " Hungary                           9\n",
      "Name: native.country, dtype: int64\n",
      "income\n",
      " <=50K    22939\n",
      " >50K      5391\n",
      "Name: income, dtype: int64\n"
     ]
    }
   ],
   "source": [
    "# Exploring Case when capital.gain and capital loss both are zero. As this category of people are more in our dataset.\n",
    "print(f\"Number of observations having capital gain and capital loss zero: {df[(df['capital.loss'] == 0) & (df['capital.gain'] == 0)].shape}\")\n",
    "for col in cat_col.index:\n",
    "    print(col)\n",
    "    print(df[(df['capital.loss'] == 0) & (df['capital.gain'] == 0)][col].value_counts())"
   ]
  },
  {
   "cell_type": "code",
   "execution_count": 33,
   "metadata": {},
   "outputs": [
    {
     "data": {
      "text/html": [
       "<div>\n",
       "<style scoped>\n",
       "    .dataframe tbody tr th:only-of-type {\n",
       "        vertical-align: middle;\n",
       "    }\n",
       "\n",
       "    .dataframe tbody tr th {\n",
       "        vertical-align: top;\n",
       "    }\n",
       "\n",
       "    .dataframe thead th {\n",
       "        text-align: right;\n",
       "    }\n",
       "</style>\n",
       "<table border=\"1\" class=\"dataframe\">\n",
       "  <thead>\n",
       "    <tr style=\"text-align: right;\">\n",
       "      <th></th>\n",
       "      <th>age</th>\n",
       "      <th>fnlwgt</th>\n",
       "      <th>education.num</th>\n",
       "      <th>capital.gain</th>\n",
       "      <th>capital.loss</th>\n",
       "      <th>hours.per.week</th>\n",
       "    </tr>\n",
       "  </thead>\n",
       "  <tbody>\n",
       "    <tr>\n",
       "      <th>count</th>\n",
       "      <td>2712.000000</td>\n",
       "      <td>2.712000e+03</td>\n",
       "      <td>2712.000000</td>\n",
       "      <td>2712.000000</td>\n",
       "      <td>2712.0</td>\n",
       "      <td>2712.000000</td>\n",
       "    </tr>\n",
       "    <tr>\n",
       "      <th>mean</th>\n",
       "      <td>44.016224</td>\n",
       "      <td>1.880805e+05</td>\n",
       "      <td>11.066003</td>\n",
       "      <td>12938.541298</td>\n",
       "      <td>0.0</td>\n",
       "      <td>43.510324</td>\n",
       "    </tr>\n",
       "    <tr>\n",
       "      <th>std</th>\n",
       "      <td>13.268269</td>\n",
       "      <td>1.033775e+05</td>\n",
       "      <td>2.663273</td>\n",
       "      <td>22395.413530</td>\n",
       "      <td>0.0</td>\n",
       "      <td>12.207654</td>\n",
       "    </tr>\n",
       "    <tr>\n",
       "      <th>min</th>\n",
       "      <td>17.000000</td>\n",
       "      <td>1.930200e+04</td>\n",
       "      <td>1.000000</td>\n",
       "      <td>114.000000</td>\n",
       "      <td>0.0</td>\n",
       "      <td>1.000000</td>\n",
       "    </tr>\n",
       "    <tr>\n",
       "      <th>25%</th>\n",
       "      <td>35.000000</td>\n",
       "      <td>1.180670e+05</td>\n",
       "      <td>9.000000</td>\n",
       "      <td>3411.000000</td>\n",
       "      <td>0.0</td>\n",
       "      <td>40.000000</td>\n",
       "    </tr>\n",
       "    <tr>\n",
       "      <th>50%</th>\n",
       "      <td>43.000000</td>\n",
       "      <td>1.759390e+05</td>\n",
       "      <td>10.000000</td>\n",
       "      <td>7298.000000</td>\n",
       "      <td>0.0</td>\n",
       "      <td>40.000000</td>\n",
       "    </tr>\n",
       "    <tr>\n",
       "      <th>75%</th>\n",
       "      <td>52.000000</td>\n",
       "      <td>2.364735e+05</td>\n",
       "      <td>13.000000</td>\n",
       "      <td>14084.000000</td>\n",
       "      <td>0.0</td>\n",
       "      <td>50.000000</td>\n",
       "    </tr>\n",
       "    <tr>\n",
       "      <th>max</th>\n",
       "      <td>90.000000</td>\n",
       "      <td>1.033222e+06</td>\n",
       "      <td>16.000000</td>\n",
       "      <td>99999.000000</td>\n",
       "      <td>0.0</td>\n",
       "      <td>99.000000</td>\n",
       "    </tr>\n",
       "  </tbody>\n",
       "</table>\n",
       "</div>"
      ],
      "text/plain": [
       "               age        fnlwgt  education.num  capital.gain  capital.loss  \\\n",
       "count  2712.000000  2.712000e+03    2712.000000   2712.000000        2712.0   \n",
       "mean     44.016224  1.880805e+05      11.066003  12938.541298           0.0   \n",
       "std      13.268269  1.033775e+05       2.663273  22395.413530           0.0   \n",
       "min      17.000000  1.930200e+04       1.000000    114.000000           0.0   \n",
       "25%      35.000000  1.180670e+05       9.000000   3411.000000           0.0   \n",
       "50%      43.000000  1.759390e+05      10.000000   7298.000000           0.0   \n",
       "75%      52.000000  2.364735e+05      13.000000  14084.000000           0.0   \n",
       "max      90.000000  1.033222e+06      16.000000  99999.000000           0.0   \n",
       "\n",
       "       hours.per.week  \n",
       "count     2712.000000  \n",
       "mean        43.510324  \n",
       "std         12.207654  \n",
       "min          1.000000  \n",
       "25%         40.000000  \n",
       "50%         40.000000  \n",
       "75%         50.000000  \n",
       "max         99.000000  "
      ]
     },
     "execution_count": 33,
     "metadata": {},
     "output_type": "execute_result"
    }
   ],
   "source": [
    "df.loc[df['capital.gain'] > 0,:].describe()"
   ]
  },
  {
   "cell_type": "code",
   "execution_count": 34,
   "metadata": {},
   "outputs": [
    {
     "name": "stdout",
     "output_type": "stream",
     "text": [
      "Number of observations having capital gain of 99999:(159, 15)\n",
      "Income counts:  >50K    159\n",
      "Name: income, dtype: int64\n"
     ]
    }
   ],
   "source": [
    "print(f\"Number of observations having capital gain of 99999:{df.loc[df['capital.gain'] == 99999,:].shape}\")\n",
    "print(f\"Income counts: {df.loc[df['capital.gain'] == 99999,:]['income'].value_counts()}\")"
   ]
  },
  {
   "cell_type": "code",
   "execution_count": 35,
   "metadata": {},
   "outputs": [
    {
     "name": "stdout",
     "output_type": "stream",
     "text": [
      "Number of observations having capital loss of 4356:(3, 15)\n",
      "\n",
      "Income Distribution among people with capital loss above mean:\n",
      "Income counts:\n",
      " >50K     658\n",
      " <=50K    277\n",
      "Name: income, dtype: int64\n"
     ]
    }
   ],
   "source": [
    "print(f\"Number of observations having capital loss of 4356:{df.loc[df['capital.loss'] == 4356,:].shape}\")\n",
    "print(\"\\nIncome Distribution among people with capital loss above mean:\")\n",
    "print(f\"Income counts:\\n{df.loc[df['capital.loss'] >= 1871,:]['income'].value_counts()}\")"
   ]
  },
  {
   "cell_type": "markdown",
   "metadata": {},
   "source": [
    "**Inspect the columns with respect to income**"
   ]
  },
  {
   "cell_type": "code",
   "execution_count": 36,
   "metadata": {
    "scrolled": false
   },
   "outputs": [
    {
     "data": {
      "image/png": "[encoded data removed]",
      "text/plain": [
       "<Figure size 1224x432 with 2 Axes>"
      ]
     },
     "metadata": {
      "needs_background": "light"
     },
     "output_type": "display_data"
    }
   ],
   "source": [
    "# occupation and income data\n",
    "table_occu = pd.crosstab(df['occupation'], df['income'])\n",
    "# workclass and income data\n",
    "table_workclass = pd.crosstab(df['workclass'], df['income'])\n",
    "# education and income data\n",
    "table_edu = pd.crosstab(df['education'], df['income'])\n",
    "# marital statues and income data\n",
    "table_marital = pd.crosstab(df['marital.status'], df['income'])\n",
    "# race and income data\n",
    "table_race = pd.crosstab(df['race'], df['income'])\n",
    "# sex and income data\n",
    "table_sex = pd.crosstab(df['sex'], df['income'])\n",
    "# country and income data\n",
    "table_country = pd.crosstab(df['native.country'], df['income'])\n",
    "\n",
    "fig = plt.figure(figsize = (17,6))\n",
    "\n",
    "# plot how many percent in each category of occupation has income less than 50k and more than 50k\n",
    "ax = fig.add_subplot(1,2,1)\n",
    "(table_occu.div(table_occu.sum(axis= 1),axis = 0)*100).plot(kind = 'bar',ax=ax);\n",
    "plt.xlabel(\"Occupation\",fontsize = 14);\n",
    "plt.ylabel('Proportion of People',fontsize = 14);\n",
    "\n",
    "# plot how many percent in each category of workclass has income less than 50k and more than 50k\n",
    "ax = fig.add_subplot(1,2,2)\n",
    "(table_workclass.div(table_workclass.sum(axis = 1),axis = 0)*100).plot(kind = 'bar',ax=ax);\n",
    "plt.xlabel(\"Workclass\",fontsize = 14);"
   ]
  },
  {
   "cell_type": "code",
   "execution_count": 37,
   "metadata": {},
   "outputs": [
    {
     "data": {
      "image/png": "[encoded data removed]",
      "text/plain": [
       "<Figure size 1224x432 with 2 Axes>"
      ]
     },
     "metadata": {
      "needs_background": "light"
     },
     "output_type": "display_data"
    }
   ],
   "source": [
    "fig = plt.figure(figsize = (17,6))\n",
    "# plot how many percent in each category of education has income less than 50k and more than 50k\n",
    "ax = fig.add_subplot(1,2,1)\n",
    "(table_edu.div(table_edu.sum(axis = 1),axis = 0)*100).plot(kind = 'bar',ax =ax);\n",
    "plt.xlabel('Education',fontsize = 14);\n",
    "plt.ylabel('Proportion of People',fontsize = 14);\n",
    "\n",
    "# plot how many percent in each category of marital status has income less than 50k and more than 50k\n",
    "ax = fig.add_subplot(1,2,2)\n",
    "(table_marital.div(table_marital.sum(axis = 1),axis = 0)*100).plot(kind = 'bar',ax = ax);\n",
    "plt.xlabel('Marital Status',fontsize = 14);\n",
    "plt.ylabel('Proportion of People',fontsize = 14);"
   ]
  },
  {
   "cell_type": "code",
   "execution_count": 38,
   "metadata": {},
   "outputs": [
    {
     "data": {
      "image/png": "[encoded data removed]",
      "text/plain": [
       "<Figure size 1224x432 with 2 Axes>"
      ]
     },
     "metadata": {
      "needs_background": "light"
     },
     "output_type": "display_data"
    }
   ],
   "source": [
    "fig = plt.figure(figsize = (17,6))\n",
    "# plot how many percent in each category of race has income less than 50k and more than 50k\n",
    "ax = fig.add_subplot(1,2,1)\n",
    "(table_race.div(table_race.sum(axis = 1),axis = 0)*100).plot(kind = 'bar',ax =ax);\n",
    "plt.xlabel('Race',fontsize = 14);\n",
    "plt.ylabel('Proportion of People',fontsize = 14);\n",
    "\n",
    "# plot how many percent in each category of sex has income less than 50k and more than 50k\n",
    "ax = fig.add_subplot(1,2,2)\n",
    "(table_sex.div(table_sex.sum(axis = 1),axis = 0)*100).plot(kind = 'bar',ax =ax);\n",
    "plt.xlabel('Sex',fontsize = 14);\n",
    "plt.ylabel('Proportion of People',fontsize = 14);"
   ]
  },
  {
   "cell_type": "code",
   "execution_count": 39,
   "metadata": {},
   "outputs": [
    {
     "data": {
      "image/png": "[encoded data removed]",
      "text/plain": [
       "<Figure size 1224x432 with 1 Axes>"
      ]
     },
     "metadata": {
      "needs_background": "light"
     },
     "output_type": "display_data"
    }
   ],
   "source": [
    "# plot how many percent in each category of native country has income less than 50k and more than 50k\n",
    "table_country = pd.crosstab(df['native.country'], df['income'])\n",
    "(table_country.div(table_country.sum(axis = 1),axis = 0)*100).plot(kind = 'bar',stacked = True,figsize = (17,6));\n",
    "plt.xlabel('Native Country',fontsize = 14);\n",
    "plt.ylabel('Proportion of People',fontsize = 14);\n"
   ]
  },
  {
   "cell_type": "markdown",
   "metadata": {},
   "source": [
    "**Summary**\n",
    "\n",
    "- Sex: Out of total male 30% of them earn salary more than 50K while less than 15% female earn more than 50K. 89% female earn less than 50K\n",
    "- Race: White and asain-pac-Islander earn salary more than 50K\n",
    "- marital_status: 41% of married people seem to earn salary greater than 50K.\n",
    "- People having degree doctorate,prof-school,masters are making salary more than 50K.\n",
    "- Out of all the workclass only 59% self employed people are making salary more than 50K.\n",
    "- If we check by occupation, Proportion of people making salary less than 50K is higher."
   ]
  },
  {
   "cell_type": "markdown",
   "metadata": {},
   "source": [
    "**Correlation Map**"
   ]
  },
  {
   "cell_type": "code",
   "execution_count": 40,
   "metadata": {},
   "outputs": [
    {
     "data": {
      "image/png": "[encoded data removed]",
      "text/plain": [
       "<Figure size 864x432 with 2 Axes>"
      ]
     },
     "metadata": {
      "needs_background": "light"
     },
     "output_type": "display_data"
    }
   ],
   "source": [
    "fig = plt.figure(figsize = (12,6))\n",
    "\n",
    "sns.heatmap(df[list(num_col.index)].corr(),annot = True,square = True);"
   ]
  },
  {
   "cell_type": "markdown",
   "metadata": {},
   "source": [
    "**strong correlation**\n",
    "- Age and Hours per week\n",
    "- capital gain and hours per week\n",
    "\n",
    "**Moderate Correlation**\n",
    "- capital loss and age"
   ]
  },
  {
   "cell_type": "code",
   "execution_count": null,
   "metadata": {},
   "outputs": [],
   "source": []
  }
 ],
 "metadata": {
  "kernelspec": {
   "display_name": "Python 3",
   "language": "python",
   "name": "python3"
  },
  "language_info": {
   "codemirror_mode": {
    "name": "ipython",
    "version": 3
   },
   "file_extension": ".py",
   "mimetype": "text/x-python",
   "name": "python",
   "nbconvert_exporter": "python",
   "pygments_lexer": "ipython3",
   "version": "3.8.3"
  }
 },
 "nbformat": 4,
 "nbformat_minor": 2
}
